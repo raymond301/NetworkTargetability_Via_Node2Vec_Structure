{
 "cells": [
  {
   "cell_type": "code",
   "execution_count": 11,
   "metadata": {},
   "outputs": [],
   "source": [
    "import os,requests,zlib\n",
    "import pandas as pd\n",
    "from py2neo import Graph, NodeMatcher"
   ]
  },
  {
   "cell_type": "code",
   "execution_count": 12,
   "metadata": {},
   "outputs": [],
   "source": [
    "# Assuming Neo4j has been created with this name\n",
    "#dbName = \"PublicOmics\"\n",
    "dbName = \"Testing\"\n",
    "pw = \"ngs7\"\n",
    "graph = Graph(\"bolt://localhost:7687/\"+dbName, auth=(\"neo4j\", pw))"
   ]
  },
  {
   "cell_type": "code",
   "execution_count": 14,
   "metadata": {},
   "outputs": [
    {
     "data": {
      "text/html": [
       "<div>\n",
       "<style scoped>\n",
       "    .dataframe tbody tr th:only-of-type {\n",
       "        vertical-align: middle;\n",
       "    }\n",
       "\n",
       "    .dataframe tbody tr th {\n",
       "        vertical-align: top;\n",
       "    }\n",
       "\n",
       "    .dataframe thead th {\n",
       "        text-align: right;\n",
       "    }\n",
       "</style>\n",
       "<table border=\"1\" class=\"dataframe\">\n",
       "  <thead>\n",
       "    <tr style=\"text-align: right;\">\n",
       "      <th></th>\n",
       "      <th>Level</th>\n",
       "      <th>Gene</th>\n",
       "      <th>Alterations</th>\n",
       "      <th>TumorType</th>\n",
       "      <th>Drugs</th>\n",
       "    </tr>\n",
       "  </thead>\n",
       "  <tbody>\n",
       "    <tr>\n",
       "      <th>0</th>\n",
       "      <td>3</td>\n",
       "      <td>ERBB2</td>\n",
       "      <td>Oncogenic Mutations</td>\n",
       "      <td>Breast Cancer</td>\n",
       "      <td>Neratinib</td>\n",
       "    </tr>\n",
       "    <tr>\n",
       "      <th>1</th>\n",
       "      <td>3</td>\n",
       "      <td>AKT1</td>\n",
       "      <td>E17K</td>\n",
       "      <td>Breast Cancer</td>\n",
       "      <td>AZD5363</td>\n",
       "    </tr>\n",
       "    <tr>\n",
       "      <th>2</th>\n",
       "      <td>3</td>\n",
       "      <td>AKT1</td>\n",
       "      <td>E17K</td>\n",
       "      <td>Endometrial Cancer</td>\n",
       "      <td>AZD5363</td>\n",
       "    </tr>\n",
       "  </tbody>\n",
       "</table>\n",
       "</div>"
      ],
      "text/plain": [
       "  Level   Gene          Alterations           TumorType      Drugs\n",
       "0     3  ERBB2  Oncogenic Mutations       Breast Cancer  Neratinib\n",
       "1     3   AKT1                 E17K       Breast Cancer    AZD5363\n",
       "2     3   AKT1                 E17K  Endometrial Cancer    AZD5363"
      ]
     },
     "execution_count": 14,
     "metadata": {},
     "output_type": "execute_result"
    }
   ],
   "source": [
    "data = pd.read_csv('oncokb_biomarker_drug_associations.tsv', sep='\\t')\n",
    "data\n",
    "##  understanding the levels\n",
    "#   https://www.oncokb.org/levels\n",
    "for row in data.itertuples():\n",
    "    s1 = \"MERGE (g:Gene { Symbol: '%s'})\"%(row.Gene)\n",
    "    s2 = \"MERGE (m:Mutation { Term: '%s:%s'})\"%(row.Gene,row.Alterations)\n",
    "    s3 = \"MERGE (t:TumorType { Name: '%s'})\"%(row.TumorType)\n",
    "    s4 = \"MERGE (d:Drug { Name: '%s'})\"%(row.Drugs)\n",
    "    b1 = \"MERGE (g)-[:ALTERED_BY]->(m)\"\n",
    "    if row.Level.startswith(\"R\"):\n",
    "        r1 = \"MERGE (m)-[:RESISTANCE{level:'%s'}]->(t)\"%(row.Level)\n",
    "        r2 = \"MERGE (m)-[:RESISTANCE{level:'%s'}]->(d)\"%(row.Level)\n",
    "    else:\n",
    "        r1 = \"MERGE (m)-[:ACTIONABILITY{level:'%s'}]->(t)\"%(row.Level)\n",
    "        r2 = \"MERGE (m)-[:ACTIONABILITY{level:'%s'}]->(d)\"%(row.Level)\n",
    "    subStmt = \"{} {} {} {} {} {} {}\".format(s1,s2,s3,s4,r1,r2,b1)\n",
    "    graph.run(subStmt)\n",
    "\n",
    "data.head(3)\n"
   ]
  },
  {
   "cell_type": "code",
   "execution_count": null,
   "metadata": {},
   "outputs": [],
   "source": []
  }
 ],
 "metadata": {
  "kernelspec": {
   "display_name": "Python 3",
   "language": "python",
   "name": "python3"
  },
  "language_info": {
   "codemirror_mode": {
    "name": "ipython",
    "version": 3
   },
   "file_extension": ".py",
   "mimetype": "text/x-python",
   "name": "python",
   "nbconvert_exporter": "python",
   "pygments_lexer": "ipython3",
   "version": "3.8.5"
  }
 },
 "nbformat": 4,
 "nbformat_minor": 4
}
