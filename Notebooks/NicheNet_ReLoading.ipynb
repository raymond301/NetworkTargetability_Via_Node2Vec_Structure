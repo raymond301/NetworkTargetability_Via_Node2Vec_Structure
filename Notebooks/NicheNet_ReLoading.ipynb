{
 "cells": [
  {
   "cell_type": "code",
   "execution_count": 18,
   "metadata": {},
   "outputs": [],
   "source": [
    "import os,requests,zlib\n",
    "import pandas as pd\n",
    "import numpy as np\n",
    "from py2neo import Graph, NodeMatcher\n",
    "from pprint import pprint\n",
    "import pyreadr\n",
    "base = \"/Users/m088378/Documents/Chen_Node2Vec/NitchNtrDATA/\"\n",
    "graph = Graph(\"bolt://localhost:7687/NicheNetData\", auth=(\"neo4j\", \"ngs4\"))"
   ]
  },
  {
   "cell_type": "code",
   "execution_count": 19,
   "metadata": {},
   "outputs": [],
   "source": [
    "# lr_network.rds: network containing ligand-receptor interactions\n",
    "data = pyreadr.read_r(base+'lr_network.rds')[None].rename(columns={\"from\": \"fromGene\", \"to\": \"toGene\"})\n",
    "data.head(3)\n",
    "for row in data.itertuples():\n",
    "    s2 = \"MERGE (g:Gene {Symbol: '%s'})\"%(row.fromGene)\n",
    "    s3 = \"MERGE (j:Gene {Symbol: '%s'})\"%(row.toGene)\n",
    "    r1 = \"MERGE (g)-[:LR_NETWORK{source:'%s', database:'%s'}]->(j)\"%(row.source,row.database)\n",
    "    subStmt = \"{} {} {}\".format(s2,s3,r1)\n",
    "    graph.run(subStmt)"
   ]
  },
  {
   "cell_type": "code",
   "execution_count": null,
   "metadata": {},
   "outputs": [],
   "source": [
    "# signaling_network.rds: network containing signaling interactions\n",
    "data = pyreadr.read_r(base+'signaling_network.rds')[None].rename(columns={\"from\": \"fromGene\", \"to\": \"toGene\"})\n",
    "data.head(3)\n",
    "for row in data.itertuples():\n",
    "    s2 = \"MERGE (g:Gene {Symbol: '%s'})\"%(row.fromGene)\n",
    "    s3 = \"MERGE (j:Gene {Symbol: '%s'})\"%(row.toGene)\n",
    "    r1 = \"MERGE (g)-[:SIGNALING{source:'%s', database:'%s'}]->(j)\"%(row.source,row.database)\n",
    "    subStmt = \"{} {} {}\".format(s2,s3,r1)\n",
    "    graph.run(subStmt)"
   ]
  },
  {
   "cell_type": "code",
   "execution_count": null,
   "metadata": {},
   "outputs": [],
   "source": [
    "# gr_network.rds: network containing gene regulatory interactions\n",
    "data = pyreadr.read_r(base+'gr_network.rds')[None].rename(columns={\"from\": \"fromGene\", \"to\": \"toGene\"})\n",
    "data.head(3)\n",
    "for row in data.itertuples():\n",
    "    s2 = \"MERGE (g:Gene {Symbol: '%s'})\"%(row.fromGene)\n",
    "    s3 = \"MERGE (j:Gene {Symbol: '%s'})\"%(row.toGene)\n",
    "    r1 = \"MERGE (g)-[:GENE_REGULATORY{source:'%s', database:'%s'}]->(j)\"%(row.source,row.database)\n",
    "    subStmt = \"{} {} {}\".format(s2,s3,r1)\n",
    "    graph.run(subStmt)"
   ]
  },
  {
   "cell_type": "code",
   "execution_count": null,
   "metadata": {},
   "outputs": [],
   "source": [
    "# weighted networks.rds: integrated weighted ligand-signaling and gene regulatory network\n",
    "data = pyreadr.read_r(base+'weighted_networks.rds')[None].rename(columns={\"from\": \"fromGene\", \"to\": \"toGene\"})\n",
    "data.head(3)\n",
    "for row in data.itertuples():\n",
    "    s2 = \"MERGE (g:Gene {Symbol: '%s'})\"%(row.fromGene)\n",
    "    s3 = \"MERGE (j:Gene {Symbol: '%s'})\"%(row.toGene)\n",
    "    r1 = \"MERGE (g)-[:INFLUENCE{weight:%s}]->(j)\"%(row.weight)\n",
    "    subStmt = \"{} {} {}\".format(s2,s3,r1)\n",
    "    graph.run(subStmt)"
   ]
  },
  {
   "cell_type": "code",
   "execution_count": null,
   "metadata": {},
   "outputs": [],
   "source": []
  }
 ],
 "metadata": {
  "kernelspec": {
   "display_name": "Python 3",
   "language": "python",
   "name": "python3"
  },
  "language_info": {
   "codemirror_mode": {
    "name": "ipython",
    "version": 3
   },
   "file_extension": ".py",
   "mimetype": "text/x-python",
   "name": "python",
   "nbconvert_exporter": "python",
   "pygments_lexer": "ipython3",
   "version": "3.8.5"
  }
 },
 "nbformat": 4,
 "nbformat_minor": 4
}
